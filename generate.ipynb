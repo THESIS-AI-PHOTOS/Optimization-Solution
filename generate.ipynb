{
 "cells": [
  {
   "cell_type": "code",
   "execution_count": 3,
   "metadata": {},
   "outputs": [
    {
     "ename": "NotADirectoryError",
     "evalue": "[Errno 20] Not a directory: './cropped_train/407141615_3639387889683891_7697099033717682841_n_crop_6.png'",
     "output_type": "error",
     "traceback": [
      "\u001b[0;31m---------------------------------------------------------------------------\u001b[0m",
      "\u001b[0;31mNotADirectoryError\u001b[0m                        Traceback (most recent call last)",
      "Cell \u001b[0;32mIn[3], line 46\u001b[0m\n\u001b[1;32m     44\u001b[0m root \u001b[39m=\u001b[39m CROP_DIR\u001b[39m+\u001b[39m\u001b[39m'\u001b[39m\u001b[39m/\u001b[39m\u001b[39m'\u001b[39m\u001b[39m+\u001b[39mpath\n\u001b[1;32m     45\u001b[0m OUTPUT_FILE_PATH \u001b[39m=\u001b[39m \u001b[39m'\u001b[39m\u001b[39m./\u001b[39m\u001b[39m'\u001b[39m\n\u001b[0;32m---> 46\u001b[0m photo_cropped \u001b[39m=\u001b[39mos\u001b[39m.\u001b[39;49mlistdir(root)\n\u001b[1;32m     47\u001b[0m photo_cropped \u001b[39m=\u001b[39m [root\u001b[39m.\u001b[39mstrip() \u001b[39mfor\u001b[39;00m root \u001b[39min\u001b[39;00m photo_cropped]\n\u001b[1;32m     48\u001b[0m cropped_ids \u001b[39m=\u001b[39m photo_cropped    \n",
      "\u001b[0;31mNotADirectoryError\u001b[0m: [Errno 20] Not a directory: './cropped_train/407141615_3639387889683891_7697099033717682841_n_crop_6.png'"
     ]
    }
   ],
   "source": [
    "import os\n",
    "import face_recognition\n",
    "\n",
    "GRAPH_NODE_FILE_NAME = 'graph_node'\n",
    "GRAPH_EDGE_FILE_NAME = 'graph_edges'\n",
    "path_train = './TRAIN'\n",
    "CROP_DIR = './cropped_train'\n",
    "network=[]\n",
    "def find_and_create(image_path):\n",
    "\n",
    "    image_of_person1 = face_recognition.load_image_file(image_path)\n",
    "    person1_face_encoding = face_recognition.face_encodings(image_of_person1)\n",
    "    if len(person1_face_encoding) < 1:\n",
    "        return\n",
    "    person1_face_encoding = person1_face_encoding[0]\n",
    "    # Iterate through the full images\n",
    "    for full_image_filename in os.listdir(root):\n",
    "        print('full_image_filename: ' + str(full_image_filename))\n",
    "        # có Id cropped\n",
    "        if full_image_filename == '.DS_Store':\n",
    "            continue\n",
    "        full_image_path = os.path.join(root, full_image_filename)\n",
    "        if os.path.isfile(full_image_path):\n",
    "            # Load the current full image\n",
    "            image_of_full = face_recognition.load_image_file(full_image_path)\n",
    "            \n",
    "            # Encode the face of the current full image\n",
    "            full_image_face_encoding = face_recognition.face_encodings(image_of_full)\n",
    "            if len(full_image_face_encoding) > 0:\n",
    "                # Compare the face encodings and get a similarity score\n",
    "                face_similarity = face_recognition.face_distance([person1_face_encoding], full_image_face_encoding[0])\n",
    "                similarity_percentage = (1 - face_similarity[0]) * 100\n",
    "                print(\"percent: \" + str(similarity_percentage))\n",
    "                # Filter images with similarity > 70%\n",
    "                if similarity_percentage > 70:\n",
    "                    network.append(full_image_filename.split(\".\")[0])\n",
    "    \n",
    "    print(\"Image filtering and organization completed.\")\n",
    "          \n",
    "with open(f'{GRAPH_NODE_FILE_NAME}.txt', 'w') as node_file:\n",
    "  with open(f'{GRAPH_EDGE_FILE_NAME}.txt', 'w') as file_e:\n",
    "    folders = os.listdir(CROP_DIR)  \n",
    "    for path in folders:\n",
    "      root = CROP_DIR+'/'+path\n",
    "      OUTPUT_FILE_PATH = './'\n",
    "      photo_cropped =os.listdir(root)\n",
    "      photo_cropped = [root.strip() for root in photo_cropped]\n",
    "      cropped_ids = photo_cropped    \n",
    "\n",
    "\n",
    "\n",
    "\n",
    "\n",
    "          # Get the list of full image filenames\n",
    "      full_image_filenames = [filename.split('.')[0] for filename in os.listdir(root) if filename != '.DS_Store']\n",
    "\n",
    "      # Write full image filenames to the file\n",
    "      node_file.write(','.join(full_image_filenames))\n",
    "\n",
    "      # Check if full_image_filenames is not empty and cropped_ids is not empty\n",
    "      if full_image_filenames and cropped_ids:\n",
    "          # Write a comma only if full_image_filenames is not empty\n",
    "          node_file.write(',')\n",
    "\n",
    "      # Get the list of cropped image filenames\n",
    "      cropped_filenames = [filename.split('.')[0] for filename in cropped_ids]\n",
    "\n",
    "      # Write cropped image filenames to the file\n",
    "      node_file.write(','.join(cropped_filenames))\n",
    "\n",
    "      for image_filename in cropped_ids:\n",
    "          if image_filename == '.DS_Store':\n",
    "              continue\n",
    "          image_path = os.path.join(root, image_filename)\n",
    "          # print(image_filename.split('.'))\n",
    "          find_and_create(image_path)\n",
    "          print(image_filename.split(\".\")[0])\n",
    "          print('network: ' + str(network))\n",
    "  \n",
    "          if (len(network) != 0):\n",
    "              for n in network:\n",
    "                  temp = []\n",
    "                  temp.append(n)\n",
    "                  temp.append(image_filename.split(\".\")[0])\n",
    "                  file_e.write(str(tuple(temp)) + \"\\n\")\n",
    "      network=[]\n"
   ]
  }
 ],
 "metadata": {
  "kernelspec": {
   "display_name": "base",
   "language": "python",
   "name": "python3"
  },
  "language_info": {
   "codemirror_mode": {
    "name": "ipython",
    "version": 3
   },
   "file_extension": ".py",
   "mimetype": "text/x-python",
   "name": "python",
   "nbconvert_exporter": "python",
   "pygments_lexer": "ipython3",
   "version": "3.10.9"
  },
  "vscode": {
   "interpreter": {
    "hash": "f23b127c4b070a35c88882c64a9cecb1834602e18234f77a5878a936c0806d5f"
   }
  }
 },
 "nbformat": 4,
 "nbformat_minor": 2
}
