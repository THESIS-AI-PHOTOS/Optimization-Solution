{
 "cells": [
  {
   "cell_type": "code",
   "execution_count": 2,
   "metadata": {},
   "outputs": [
    {
     "ename": "FileNotFoundError",
     "evalue": "[Errno 2] No such file or directory: './IMAGES\\\\Be nho_301714590_188013287014193_8911548780171744404_n.jpg'",
     "output_type": "error",
     "traceback": [
      "\u001b[1;31m---------------------------------------------------------------------------\u001b[0m",
      "\u001b[1;31mFileNotFoundError\u001b[0m                         Traceback (most recent call last)",
      "File \u001b[1;32mc:\\Users\\19521\\AppData\\Local\\Programs\\Python\\Python310\\lib\\shutil.py:816\u001b[0m, in \u001b[0;36mmove\u001b[1;34m(src, dst, copy_function)\u001b[0m\n\u001b[0;32m    815\u001b[0m \u001b[39mtry\u001b[39;00m:\n\u001b[1;32m--> 816\u001b[0m     os\u001b[39m.\u001b[39;49mrename(src, real_dst)\n\u001b[0;32m    817\u001b[0m \u001b[39mexcept\u001b[39;00m \u001b[39mOSError\u001b[39;00m:\n",
      "\u001b[1;31mFileNotFoundError\u001b[0m: [WinError 3] The system cannot find the path specified: './Loc\\\\Be nho\\\\301714590_188013287014193_8911548780171744404_n.jpg' -> './IMAGES\\\\Be nho_301714590_188013287014193_8911548780171744404_n.jpg'",
      "\nDuring handling of the above exception, another exception occurred:\n",
      "\u001b[1;31mFileNotFoundError\u001b[0m                         Traceback (most recent call last)",
      "\u001b[1;32mc:\\Users\\19521\\OneDrive\\Desktop\\Data Tot Nghiep-20231209T134351Z-001\\Data Tot Nghiep\\move.ipynb Cell 1\u001b[0m line \u001b[0;36m2\n\u001b[0;32m     <a href='vscode-notebook-cell:/c%3A/Users/19521/OneDrive/Desktop/Data%20Tot%20Nghiep-20231209T134351Z-001/Data%20Tot%20Nghiep/move.ipynb#W0sZmlsZQ%3D%3D?line=26'>27</a>\u001b[0m \u001b[39m# Di chuyển ảnh vào thư mục IMAGES\u001b[39;00m\n\u001b[0;32m     <a href='vscode-notebook-cell:/c%3A/Users/19521/OneDrive/Desktop/Data%20Tot%20Nghiep-20231209T134351Z-001/Data%20Tot%20Nghiep/move.ipynb#W0sZmlsZQ%3D%3D?line=27'>28</a>\u001b[0m destination_path \u001b[39m=\u001b[39m os\u001b[39m.\u001b[39mpath\u001b[39m.\u001b[39mjoin(images_folder, \u001b[39mf\u001b[39m\u001b[39m\"\u001b[39m\u001b[39m{\u001b[39;00mperson_folder\u001b[39m}\u001b[39;00m\u001b[39m_\u001b[39m\u001b[39m{\u001b[39;00mselected_image\u001b[39m}\u001b[39;00m\u001b[39m\"\u001b[39m)\n\u001b[1;32m---> <a href='vscode-notebook-cell:/c%3A/Users/19521/OneDrive/Desktop/Data%20Tot%20Nghiep-20231209T134351Z-001/Data%20Tot%20Nghiep/move.ipynb#W0sZmlsZQ%3D%3D?line=28'>29</a>\u001b[0m shutil\u001b[39m.\u001b[39;49mmove(image_path, destination_path)\n\u001b[0;32m     <a href='vscode-notebook-cell:/c%3A/Users/19521/OneDrive/Desktop/Data%20Tot%20Nghiep-20231209T134351Z-001/Data%20Tot%20Nghiep/move.ipynb#W0sZmlsZQ%3D%3D?line=29'>30</a>\u001b[0m \u001b[39mprint\u001b[39m(\u001b[39mf\u001b[39m\u001b[39m\"\u001b[39m\u001b[39mMoved \u001b[39m\u001b[39m{\u001b[39;00mselected_image\u001b[39m}\u001b[39;00m\u001b[39m to \u001b[39m\u001b[39m{\u001b[39;00mdestination_path\u001b[39m}\u001b[39;00m\u001b[39m\"\u001b[39m)\n",
      "File \u001b[1;32mc:\\Users\\19521\\AppData\\Local\\Programs\\Python\\Python310\\lib\\shutil.py:836\u001b[0m, in \u001b[0;36mmove\u001b[1;34m(src, dst, copy_function)\u001b[0m\n\u001b[0;32m    834\u001b[0m         rmtree(src)\n\u001b[0;32m    835\u001b[0m     \u001b[39melse\u001b[39;00m:\n\u001b[1;32m--> 836\u001b[0m         copy_function(src, real_dst)\n\u001b[0;32m    837\u001b[0m         os\u001b[39m.\u001b[39munlink(src)\n\u001b[0;32m    838\u001b[0m \u001b[39mreturn\u001b[39;00m real_dst\n",
      "File \u001b[1;32mc:\\Users\\19521\\AppData\\Local\\Programs\\Python\\Python310\\lib\\shutil.py:434\u001b[0m, in \u001b[0;36mcopy2\u001b[1;34m(src, dst, follow_symlinks)\u001b[0m\n\u001b[0;32m    432\u001b[0m \u001b[39mif\u001b[39;00m os\u001b[39m.\u001b[39mpath\u001b[39m.\u001b[39misdir(dst):\n\u001b[0;32m    433\u001b[0m     dst \u001b[39m=\u001b[39m os\u001b[39m.\u001b[39mpath\u001b[39m.\u001b[39mjoin(dst, os\u001b[39m.\u001b[39mpath\u001b[39m.\u001b[39mbasename(src))\n\u001b[1;32m--> 434\u001b[0m copyfile(src, dst, follow_symlinks\u001b[39m=\u001b[39;49mfollow_symlinks)\n\u001b[0;32m    435\u001b[0m copystat(src, dst, follow_symlinks\u001b[39m=\u001b[39mfollow_symlinks)\n\u001b[0;32m    436\u001b[0m \u001b[39mreturn\u001b[39;00m dst\n",
      "File \u001b[1;32mc:\\Users\\19521\\AppData\\Local\\Programs\\Python\\Python310\\lib\\shutil.py:256\u001b[0m, in \u001b[0;36mcopyfile\u001b[1;34m(src, dst, follow_symlinks)\u001b[0m\n\u001b[0;32m    254\u001b[0m \u001b[39mwith\u001b[39;00m \u001b[39mopen\u001b[39m(src, \u001b[39m'\u001b[39m\u001b[39mrb\u001b[39m\u001b[39m'\u001b[39m) \u001b[39mas\u001b[39;00m fsrc:\n\u001b[0;32m    255\u001b[0m     \u001b[39mtry\u001b[39;00m:\n\u001b[1;32m--> 256\u001b[0m         \u001b[39mwith\u001b[39;00m \u001b[39mopen\u001b[39;49m(dst, \u001b[39m'\u001b[39;49m\u001b[39mwb\u001b[39;49m\u001b[39m'\u001b[39;49m) \u001b[39mas\u001b[39;00m fdst:\n\u001b[0;32m    257\u001b[0m             \u001b[39m# macOS\u001b[39;00m\n\u001b[0;32m    258\u001b[0m             \u001b[39mif\u001b[39;00m _HAS_FCOPYFILE:\n\u001b[0;32m    259\u001b[0m                 \u001b[39mtry\u001b[39;00m:\n",
      "\u001b[1;31mFileNotFoundError\u001b[0m: [Errno 2] No such file or directory: './IMAGES\\\\Be nho_301714590_188013287014193_8911548780171744404_n.jpg'"
     ]
    }
   ],
   "source": [
    "import os\n",
    "import shutil\n",
    "import random\n",
    "\n",
    "# Đường dẫn của thư mục chứa ảnh\n",
    "store_image_folder = \"./Loc/\"\n",
    "\n",
    "# Đường dẫn của thư mục tập trung ảnh\n",
    "images_folder = \"./IMAGES/\"\n",
    "\n",
    "# Lặp qua các thư mục trong storeImage\n",
    "for person_folder in os.listdir(store_image_folder):\n",
    "    person_folder_path = os.path.join(store_image_folder, person_folder)\n",
    "    \n",
    "    # Kiểm tra nếu là thư mục\n",
    "    if os.path.isdir(person_folder_path):\n",
    "        # Lấy danh sách tất cả các file ảnh trong thư mục người đó\n",
    "        images = [f for f in os.listdir(person_folder_path) if f.lower().endswith(('.png', '.jpg', '.jpeg', '.gif', '.bmp'))]\n",
    "        \n",
    "        # Chọn một ảnh ngẫu nhiên từ danh sách\n",
    "        if images:\n",
    "            selected_image = random.choice(images)\n",
    "            \n",
    "            # Đường dẫn đến ảnh được chọn\n",
    "            image_path = os.path.join(person_folder_path, selected_image)\n",
    "            \n",
    "            # Di chuyển ảnh vào thư mục IMAGES\n",
    "            destination_path = os.path.join(images_folder, f\"{person_folder}_{selected_image}\")\n",
    "            shutil.move(image_path, destination_path)\n",
    "            print(f\"Moved {selected_image} to {destination_path}\")\n"
   ]
  }
 ],
 "metadata": {
  "kernelspec": {
   "display_name": "Python 3",
   "language": "python",
   "name": "python3"
  },
  "language_info": {
   "codemirror_mode": {
    "name": "ipython",
    "version": 3
   },
   "file_extension": ".py",
   "mimetype": "text/x-python",
   "name": "python",
   "nbconvert_exporter": "python",
   "pygments_lexer": "ipython3",
   "version": "3.9.6 (default, May  7 2023, 23:32:44) \n[Clang 14.0.3 (clang-1403.0.22.14.1)]"
  },
  "vscode": {
   "interpreter": {
    "hash": "31f2aee4e71d21fbe5cf8b01ff0e069b9275f58929596ceb00d14d90e3e16cd6"
   }
  }
 },
 "nbformat": 4,
 "nbformat_minor": 2
}
