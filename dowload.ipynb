{
 "cells": [
  {
   "cell_type": "code",
   "execution_count": 1,
   "metadata": {},
   "outputs": [
    {
     "name": "stdout",
     "output_type": "stream",
     "text": [
      "Downloading file from http://dlib.net/files/shape_predictor_68_face_landmarks.dat.bz2\n",
      "Download completed. File saved as shape_predictor_68_face_landmarks.dat.bz2\n",
      "Unzipping file: shape_predictor_68_face_landmarks.dat.bz2\n",
      "Unzip completed. File saved as shape_predictor_68_face_landmarks.dat\n"
     ]
    }
   ],
   "source": [
    "import urllib.request\n",
    "import bz2\n",
    "import os\n",
    "\n",
    "def download_file(url, output_file):\n",
    "    try:\n",
    "        print(f\"Downloading file from {url}\")\n",
    "        urllib.request.urlretrieve(url, output_file)\n",
    "        print(f\"Download completed. File saved as {output_file}\")\n",
    "    except Exception as e:\n",
    "        print(f\"Error downloading file: {e}\")\n",
    "\n",
    "def unzip_bz2_file(zipped_file_name):\n",
    "    try:\n",
    "        print(f\"Unzipping file: {zipped_file_name}\")\n",
    "        with bz2.BZ2File(zipped_file_name, 'rb') as zipfile:\n",
    "            data = zipfile.read()\n",
    "            new_file_path = zipped_file_name[:-4]  # discard .bz2 extension\n",
    "            open(new_file_path, 'wb').write(data)\n",
    "            print(f\"Unzip completed. File saved as {new_file_path}\")\n",
    "    except Exception as e:\n",
    "        print(f\"Error unzipping file: {e}\")\n",
    "\n",
    "# URL of the file to download\n",
    "url = \"http://dlib.net/files/shape_predictor_68_face_landmarks.dat.bz2\"\n",
    "\n",
    "# Local filename to save the downloaded file\n",
    "output_file = \"shape_predictor_68_face_landmarks.dat.bz2\"\n",
    "\n",
    "# Call the function to download the file\n",
    "download_file(url, output_file)\n",
    "\n",
    "# Call the function to unzip the file\n",
    "unzip_bz2_file(output_file)\n"
   ]
  }
 ],
 "metadata": {
  "kernelspec": {
   "display_name": "Python 3",
   "language": "python",
   "name": "python3"
  },
  "language_info": {
   "codemirror_mode": {
    "name": "ipython",
    "version": 3
   },
   "file_extension": ".py",
   "mimetype": "text/x-python",
   "name": "python",
   "nbconvert_exporter": "python",
   "pygments_lexer": "ipython3",
   "version": "3.10.10"
  }
 },
 "nbformat": 4,
 "nbformat_minor": 2
}
