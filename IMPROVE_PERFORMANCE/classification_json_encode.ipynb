{
 "cells": [
  {
   "cell_type": "code",
   "execution_count": 15,
   "metadata": {},
   "outputs": [],
   "source": [
    "import cv2\n",
    "import dlib\n",
    "import os\n",
    "import numpy as np\n",
    "import pandas as pd\n",
    "from skimage import io\n",
    "from PIL import Image\n",
    "\n",
    "def classify_faces(source_folder, output_folder):\n",
    "    # Load the DataFrame from the JSON file\n",
    "    df = pd.read_json(source_folder)\n",
    "    face_encodings = {}\n",
    "    for index in range(len(df)):\n",
    "        # Get face encoding from the DataFrame\n",
    "        vector = np.array(df['image_encode'].iloc[index], dtype=np.uint8)  # Convert to uint8\n",
    "        face_encoding = df['encode'].iloc[index]  # Convert to uint8\n",
    "        if  len(face_encoding):\n",
    "                    # Kiểm tra xem đã có folder cho người này chưa\n",
    "                    person_folder = None\n",
    "                    for person, encoding in face_encodings.items():\n",
    "                        # Convert face_encoding và encoding thành numpy arrays\n",
    "                        face_encoding_np = np.array(face_encoding)\n",
    "                        encoding_np = np.array(encoding)\n",
    "\n",
    "                        # So sánh mã hóa để xác định xem có thuộc về cùng một người hay không\n",
    "                        if cv2.norm(face_encoding_np, encoding_np, cv2.NORM_L2) < 0.4:\n",
    "                            person_folder = person\n",
    "                            break\n",
    "\n",
    "                    if not person_folder:\n",
    "                        # Nếu không có folder cho người này, tạo mới\n",
    "                        person_folder = os.path.join(output_folder, f\"Person_{len(face_encodings) + 1}\")\n",
    "                        os.makedirs(person_folder)\n",
    "                        face_encodings[person_folder] = face_encoding\n",
    "\n",
    "        # Assuming the shape is (100, 100, 3), adjust accordingly\n",
    "        # If it's grayscale, reshape to (height, width)\n",
    "                    if vector.shape[2] == 1:\n",
    "                        vector = vector.squeeze()\n",
    "\n",
    "                    saved_image_path = os.path.join(person_folder,f\"{df['name'].iloc[index]}.png\")  # Add the file extension\n",
    "                    Image.fromarray(vector).save(saved_image_path)\n",
    "\n",
    "if __name__ == \"__main__\":\n",
    "    source_folder = \"crop_face_encode.json\"\n",
    "    output_folder = \"./similar_faces_encode/\"\n",
    "\n",
    "    classify_faces(source_folder, output_folder)\n"
   ]
  }
 ],
 "metadata": {
  "kernelspec": {
   "display_name": "Python 3",
   "language": "python",
   "name": "python3"
  },
  "language_info": {
   "codemirror_mode": {
    "name": "ipython",
    "version": 3
   },
   "file_extension": ".py",
   "mimetype": "text/x-python",
   "name": "python",
   "nbconvert_exporter": "python",
   "pygments_lexer": "ipython3",
   "version": "3.10.10"
  }
 },
 "nbformat": 4,
 "nbformat_minor": 2
}
