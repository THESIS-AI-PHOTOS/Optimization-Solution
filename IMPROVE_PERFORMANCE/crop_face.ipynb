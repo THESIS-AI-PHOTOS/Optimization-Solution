{
 "cells": [
  {
   "cell_type": "code",
   "execution_count": 2,
   "metadata": {},
   "outputs": [],
   "source": [
    "import os\n",
    "import dlib\n",
    "from skimage import io\n",
    "import cv2\n",
    "\n",
    "# Set the path to the folder containing photos\n",
    "folder_path = \"./CLASSIFICATION\"\n",
    "\n",
    "# Initialize face detector, shape predictor, and face recognition model\n",
    "detector = dlib.get_frontal_face_detector()\n",
    "predictor = dlib.shape_predictor(\"shape_predictor_68_face_landmarks.dat\")  # Adjust the path as needed\n",
    "face_recognizer = dlib.face_recognition_model_v1(\"dlib_face_recognition_resnet_model_v1.dat\")  # Adjust the path as needed\n",
    "\n",
    "# Iterate over each file in the folder\n",
    "for filename in os.listdir(folder_path):\n",
    "    if filename.endswith(('.jpg', '.jpeg', '.png')):  # Adjust the file extensions as needed\n",
    "        file_path = os.path.join(folder_path, filename)\n",
    "\n",
    "        # Load the image\n",
    "        image = io.imread(file_path)\n",
    "\n",
    "        # Detect faces in the image\n",
    "        faces = detector(image)\n",
    "\n",
    "        # Iterate over each detected face\n",
    "        for i, face in enumerate(faces):\n",
    "            # Get the facial landmarks for the face\n",
    "            landmarks = predictor(image, face)\n",
    "\n",
    "            # Extract the coordinates of the bounding box\n",
    "            left = min(landmarks.part(i).x for i in range(68))\n",
    "            top = min(landmarks.part(i).y for i in range(68))\n",
    "            right = max(landmarks.part(i).x for i in range(68))\n",
    "            bottom = max(landmarks.part(i).y for i in range(68))\n",
    "\n",
    "            # Calculate the new coordinates for cropping a square region around the face\n",
    "            new_left = max(0, left)\n",
    "            new_top = max(0, top)\n",
    "            new_right = min(image.shape[1], right)\n",
    "            new_bottom = min(image.shape[0], bottom)\n",
    "\n",
    "            # Crop the face\n",
    "            cropped_face = image[new_top:new_bottom, new_left:new_right]\n",
    "\n",
    "            # Resize the cropped face to 100x100 pixels\n",
    "            resized_face = cv2.resize(cropped_face, (100, 100))\n",
    "\n",
    "            # Save or display the resized face\n",
    "            output_path = os.path.join(\"cropped_train\", f\"{filename.replace('.jpg','').replace('.png','')}_face_{i}.png\")  # Adjust the output folder as needed\n",
    "            io.imsave(output_path, resized_face)\n"
   ]
  }
 ],
 "metadata": {
  "kernelspec": {
   "display_name": "Python 3",
   "language": "python",
   "name": "python3"
  },
  "language_info": {
   "codemirror_mode": {
    "name": "ipython",
    "version": 3
   },
   "file_extension": ".py",
   "mimetype": "text/x-python",
   "name": "python",
   "nbconvert_exporter": "python",
   "pygments_lexer": "ipython3",
   "version": "3.10.10"
  }
 },
 "nbformat": 4,
 "nbformat_minor": 2
}
