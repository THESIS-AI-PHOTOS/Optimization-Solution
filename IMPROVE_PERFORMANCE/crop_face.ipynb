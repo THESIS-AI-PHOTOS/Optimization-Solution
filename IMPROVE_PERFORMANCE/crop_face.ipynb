{
 "cells": [
  {
   "cell_type": "code",
   "execution_count": 1,
   "metadata": {},
   "outputs": [
    {
     "ename": "FileNotFoundError",
     "evalue": "The directory 'c:\\\\Users\\\\19521\\\\OneDrive\\\\Desktop\\\\Optimization-Solution\\\\IMPROVE_PERFORMANCE\\\\cropped_train' does not exist",
     "output_type": "error",
     "traceback": [
      "\u001b[1;31m---------------------------------------------------------------------------\u001b[0m",
      "\u001b[1;31mFileNotFoundError\u001b[0m                         Traceback (most recent call last)",
      "\u001b[1;32mc:\\Users\\19521\\OneDrive\\Desktop\\Optimization-Solution\\IMPROVE_PERFORMANCE\\crop_face.ipynb Cell 1\u001b[0m line \u001b[0;36m5\n\u001b[0;32m     <a href='vscode-notebook-cell:/c%3A/Users/19521/OneDrive/Desktop/Optimization-Solution/IMPROVE_PERFORMANCE/crop_face.ipynb#W0sZmlsZQ%3D%3D?line=48'>49</a>\u001b[0m \u001b[39m# Save or display the resized face\u001b[39;00m\n\u001b[0;32m     <a href='vscode-notebook-cell:/c%3A/Users/19521/OneDrive/Desktop/Optimization-Solution/IMPROVE_PERFORMANCE/crop_face.ipynb#W0sZmlsZQ%3D%3D?line=49'>50</a>\u001b[0m output_path \u001b[39m=\u001b[39m os\u001b[39m.\u001b[39mpath\u001b[39m.\u001b[39mjoin(\u001b[39m\"\u001b[39m\u001b[39mcropped_train\u001b[39m\u001b[39m\"\u001b[39m, name)  \u001b[39m# Adjust the output folder as needed\u001b[39;00m\n\u001b[1;32m---> <a href='vscode-notebook-cell:/c%3A/Users/19521/OneDrive/Desktop/Optimization-Solution/IMPROVE_PERFORMANCE/crop_face.ipynb#W0sZmlsZQ%3D%3D?line=50'>51</a>\u001b[0m io\u001b[39m.\u001b[39;49mimsave(output_path, resized_face)\n",
      "File \u001b[1;32mc:\\Users\\19521\\AppData\\Local\\Programs\\Python\\Python310\\lib\\site-packages\\skimage\\io\\_io.py:143\u001b[0m, in \u001b[0;36mimsave\u001b[1;34m(fname, arr, plugin, check_contrast, **plugin_args)\u001b[0m\n\u001b[0;32m    141\u001b[0m \u001b[39mif\u001b[39;00m check_contrast \u001b[39mand\u001b[39;00m is_low_contrast(arr):\n\u001b[0;32m    142\u001b[0m     warn(\u001b[39mf\u001b[39m\u001b[39m'\u001b[39m\u001b[39m{\u001b[39;00mfname\u001b[39m}\u001b[39;00m\u001b[39m is a low contrast image\u001b[39m\u001b[39m'\u001b[39m)\n\u001b[1;32m--> 143\u001b[0m \u001b[39mreturn\u001b[39;00m call_plugin(\u001b[39m'\u001b[39m\u001b[39mimsave\u001b[39m\u001b[39m'\u001b[39m, fname, arr, plugin\u001b[39m=\u001b[39mplugin, \u001b[39m*\u001b[39m\u001b[39m*\u001b[39mplugin_args)\n",
      "File \u001b[1;32mc:\\Users\\19521\\AppData\\Local\\Programs\\Python\\Python310\\lib\\site-packages\\skimage\\io\\manage_plugins.py:205\u001b[0m, in \u001b[0;36mcall_plugin\u001b[1;34m(kind, *args, **kwargs)\u001b[0m\n\u001b[0;32m    202\u001b[0m     \u001b[39mexcept\u001b[39;00m \u001b[39mIndexError\u001b[39;00m:\n\u001b[0;32m    203\u001b[0m         \u001b[39mraise\u001b[39;00m \u001b[39mRuntimeError\u001b[39;00m(\u001b[39mf\u001b[39m\u001b[39m'\u001b[39m\u001b[39mCould not find the plugin \u001b[39m\u001b[39m\"\u001b[39m\u001b[39m{\u001b[39;00mplugin\u001b[39m}\u001b[39;00m\u001b[39m\"\u001b[39m\u001b[39m for \u001b[39m\u001b[39m{\u001b[39;00mkind\u001b[39m}\u001b[39;00m\u001b[39m.\u001b[39m\u001b[39m'\u001b[39m)\n\u001b[1;32m--> 205\u001b[0m \u001b[39mreturn\u001b[39;00m func(\u001b[39m*\u001b[39margs, \u001b[39m*\u001b[39m\u001b[39m*\u001b[39mkwargs)\n",
      "File \u001b[1;32mc:\\Users\\19521\\AppData\\Local\\Programs\\Python\\Python310\\lib\\site-packages\\imageio\\v3.py:139\u001b[0m, in \u001b[0;36mimwrite\u001b[1;34m(uri, image, plugin, extension, format_hint, **kwargs)\u001b[0m\n\u001b[0;32m    104\u001b[0m \u001b[39mdef\u001b[39;00m \u001b[39mimwrite\u001b[39m(uri, image, \u001b[39m*\u001b[39m, plugin\u001b[39m=\u001b[39m\u001b[39mNone\u001b[39;00m, extension\u001b[39m=\u001b[39m\u001b[39mNone\u001b[39;00m, format_hint\u001b[39m=\u001b[39m\u001b[39mNone\u001b[39;00m, \u001b[39m*\u001b[39m\u001b[39m*\u001b[39mkwargs):\n\u001b[0;32m    105\u001b[0m \u001b[39m    \u001b[39m\u001b[39m\"\"\"Write an ndimage to the given URI.\u001b[39;00m\n\u001b[0;32m    106\u001b[0m \n\u001b[0;32m    107\u001b[0m \u001b[39m    The exact behavior depends on the file type and plugin used. To learn about\u001b[39;00m\n\u001b[1;32m   (...)\u001b[0m\n\u001b[0;32m    136\u001b[0m \n\u001b[0;32m    137\u001b[0m \u001b[39m    \"\"\"\u001b[39;00m\n\u001b[1;32m--> 139\u001b[0m     \u001b[39mwith\u001b[39;00m imopen(\n\u001b[0;32m    140\u001b[0m         uri,\n\u001b[0;32m    141\u001b[0m         \u001b[39m\"\u001b[39;49m\u001b[39mw\u001b[39;49m\u001b[39m\"\u001b[39;49m,\n\u001b[0;32m    142\u001b[0m         legacy_mode\u001b[39m=\u001b[39;49m\u001b[39mFalse\u001b[39;49;00m,\n\u001b[0;32m    143\u001b[0m         plugin\u001b[39m=\u001b[39;49mplugin,\n\u001b[0;32m    144\u001b[0m         format_hint\u001b[39m=\u001b[39;49mformat_hint,\n\u001b[0;32m    145\u001b[0m         extension\u001b[39m=\u001b[39;49mextension,\n\u001b[0;32m    146\u001b[0m     ) \u001b[39mas\u001b[39;00m img_file:\n\u001b[0;32m    147\u001b[0m         encoded \u001b[39m=\u001b[39m img_file\u001b[39m.\u001b[39mwrite(image, \u001b[39m*\u001b[39m\u001b[39m*\u001b[39mkwargs)\n\u001b[0;32m    149\u001b[0m     \u001b[39mreturn\u001b[39;00m encoded\n",
      "File \u001b[1;32mc:\\Users\\19521\\AppData\\Local\\Programs\\Python\\Python310\\lib\\site-packages\\imageio\\core\\imopen.py:113\u001b[0m, in \u001b[0;36mimopen\u001b[1;34m(uri, io_mode, plugin, extension, format_hint, legacy_mode, **kwargs)\u001b[0m\n\u001b[0;32m    111\u001b[0m     request\u001b[39m.\u001b[39mformat_hint \u001b[39m=\u001b[39m format_hint\n\u001b[0;32m    112\u001b[0m \u001b[39melse\u001b[39;00m:\n\u001b[1;32m--> 113\u001b[0m     request \u001b[39m=\u001b[39m Request(uri, io_mode, format_hint\u001b[39m=\u001b[39;49mformat_hint, extension\u001b[39m=\u001b[39;49mextension)\n\u001b[0;32m    115\u001b[0m source \u001b[39m=\u001b[39m \u001b[39m\"\u001b[39m\u001b[39m<bytes>\u001b[39m\u001b[39m\"\u001b[39m \u001b[39mif\u001b[39;00m \u001b[39misinstance\u001b[39m(uri, \u001b[39mbytes\u001b[39m) \u001b[39melse\u001b[39;00m uri\n\u001b[0;32m    117\u001b[0m \u001b[39m# fast-path based on plugin\u001b[39;00m\n\u001b[0;32m    118\u001b[0m \u001b[39m# (except in legacy mode)\u001b[39;00m\n",
      "File \u001b[1;32mc:\\Users\\19521\\AppData\\Local\\Programs\\Python\\Python310\\lib\\site-packages\\imageio\\core\\request.py:247\u001b[0m, in \u001b[0;36mRequest.__init__\u001b[1;34m(self, uri, mode, extension, format_hint, **kwargs)\u001b[0m\n\u001b[0;32m    244\u001b[0m     \u001b[39mraise\u001b[39;00m \u001b[39mValueError\u001b[39;00m(\u001b[39mf\u001b[39m\u001b[39m\"\u001b[39m\u001b[39mInvalid Request.Mode: \u001b[39m\u001b[39m{\u001b[39;00mmode\u001b[39m}\u001b[39;00m\u001b[39m\"\u001b[39m)\n\u001b[0;32m    246\u001b[0m \u001b[39m# Parse what was given\u001b[39;00m\n\u001b[1;32m--> 247\u001b[0m \u001b[39mself\u001b[39;49m\u001b[39m.\u001b[39;49m_parse_uri(uri)\n\u001b[0;32m    249\u001b[0m \u001b[39m# Set extension\u001b[39;00m\n\u001b[0;32m    250\u001b[0m \u001b[39mif\u001b[39;00m extension \u001b[39mis\u001b[39;00m \u001b[39mnot\u001b[39;00m \u001b[39mNone\u001b[39;00m:\n",
      "File \u001b[1;32mc:\\Users\\19521\\AppData\\Local\\Programs\\Python\\Python310\\lib\\site-packages\\imageio\\core\\request.py:412\u001b[0m, in \u001b[0;36mRequest._parse_uri\u001b[1;34m(self, uri)\u001b[0m\n\u001b[0;32m    410\u001b[0m dn \u001b[39m=\u001b[39m os\u001b[39m.\u001b[39mpath\u001b[39m.\u001b[39mdirname(fn)\n\u001b[0;32m    411\u001b[0m \u001b[39mif\u001b[39;00m \u001b[39mnot\u001b[39;00m os\u001b[39m.\u001b[39mpath\u001b[39m.\u001b[39mexists(dn):\n\u001b[1;32m--> 412\u001b[0m     \u001b[39mraise\u001b[39;00m \u001b[39mFileNotFoundError\u001b[39;00m(\u001b[39m\"\u001b[39m\u001b[39mThe directory \u001b[39m\u001b[39m%r\u001b[39;00m\u001b[39m does not exist\u001b[39m\u001b[39m\"\u001b[39m \u001b[39m%\u001b[39m dn)\n",
      "\u001b[1;31mFileNotFoundError\u001b[0m: The directory 'c:\\\\Users\\\\19521\\\\OneDrive\\\\Desktop\\\\Optimization-Solution\\\\IMPROVE_PERFORMANCE\\\\cropped_train' does not exist"
     ]
    }
   ],
   "source": [
    "import os\n",
    "import dlib\n",
    "from skimage import io\n",
    "import cv2\n",
    "\n",
    "# Set the path to the folder containing photos\n",
    "folder_path = \"./CLASSIFICATION\"\n",
    "\n",
    "# Initialize face detector, shape predictor, and face recognition model\n",
    "detector = dlib.get_frontal_face_detector()\n",
    "predictor = dlib.shape_predictor(\"shape_predictor_68_face_landmarks.dat\")  # Adjust the path as needed\n",
    "face_recognizer = dlib.face_recognition_model_v1(\"dlib_face_recognition_resnet_model_v1.dat\")  # Adjust the path as needed\n",
    "\n",
    "# Iterate over each file in the folder\n",
    "for filename in os.listdir(folder_path):\n",
    "    if filename.endswith(('.jpg', '.jpeg', '.png')):  # Adjust the file extensions as needed\n",
    "        file_path = os.path.join(folder_path, filename)\n",
    "\n",
    "        # Load the image\n",
    "        image = io.imread(file_path)\n",
    "\n",
    "        # Detect faces in the image\n",
    "        faces = detector(image)\n",
    "\n",
    "        # Iterate over each detected face\n",
    "        for i, face in enumerate(faces):\n",
    "            # Get the facial landmarks for the face\n",
    "            landmarks = predictor(image, face)\n",
    "\n",
    "            # Extract the coordinates of the bounding box\n",
    "            left = min(landmarks.part(i).x for i in range(68))\n",
    "            top = min(landmarks.part(i).y for i in range(68))\n",
    "            right = max(landmarks.part(i).x for i in range(68))\n",
    "            bottom = max(landmarks.part(i).y for i in range(68))\n",
    "\n",
    "            # Calculate the new coordinates for cropping a square region around the face\n",
    "            new_left = max(0, left)\n",
    "            new_top = max(0, top)\n",
    "            new_right = min(image.shape[1], right)\n",
    "            new_bottom = min(image.shape[0], bottom)\n",
    "\n",
    "            # Crop the face\n",
    "            cropped_face = image[new_top:new_bottom, new_left:new_right]\n",
    "\n",
    "            # Resize the cropped face to 100x100 pixels\n",
    "            resized_face = cv2.resize(cropped_face, (100, 100))\n",
    "\n",
    "            # Save or display the resized face\n",
    "            output_path = os.path.join(\"cropped_train\", f\"{filename.replace('.jpg','').replace('.png','')}_face_{i}.png\")  # Adjust the output folder as needed\n",
    "            io.imsave(output_path, resized_face)\n"
   ]
  }
 ],
 "metadata": {
  "kernelspec": {
   "display_name": "Python 3",
   "language": "python",
   "name": "python3"
  },
  "language_info": {
   "codemirror_mode": {
    "name": "ipython",
    "version": 3
   },
   "file_extension": ".py",
   "mimetype": "text/x-python",
   "name": "python",
   "nbconvert_exporter": "python",
   "pygments_lexer": "ipython3",
   "version": "3.10.10"
  }
 },
 "nbformat": 4,
 "nbformat_minor": 2
}
